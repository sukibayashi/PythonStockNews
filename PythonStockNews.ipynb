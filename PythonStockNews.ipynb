{
 "metadata": {
  "language_info": {
   "codemirror_mode": {
    "name": "ipython",
    "version": 3
   },
   "file_extension": ".py",
   "mimetype": "text/x-python",
   "name": "python",
   "nbconvert_exporter": "python",
   "pygments_lexer": "ipython3",
   "version": "3.8.3-final"
  },
  "orig_nbformat": 2,
  "kernelspec": {
   "name": "python3",
   "display_name": "Python 3",
   "language": "python"
  }
 },
 "nbformat": 4,
 "nbformat_minor": 2,
 "cells": [
  {
   "cell_type": "code",
   "execution_count": 26,
   "metadata": {
    "tags": []
   },
   "outputs": [
    {
     "output_type": "stream",
     "name": "stdout",
     "text": [
      "2020/12/25\n1210.TW\n大成\n大成跨足新領域 業績新動能(工商時報)\n\n2020/12/25\n1444.TW\n力麗\n力麗爆單 春節加班趕工(經濟日報)\n\n2020/12/25\n2002.TW\n中鋼\n美熱軋漲破1000美元 國內鋼廠受惠(工商時報)\n\n2020/12/25\n2014.TW\n中鴻\n美熱軋漲破1000美元 國內鋼廠受惠(工商時報)\n\n2020/12/25\n2020.TW\n美亞\n美熱軋漲破1000美元 國內鋼廠受惠(工商時報)\n\n2020/12/25\n2023.TW\n燁輝\n美熱軋漲破1000美元 國內鋼廠受惠(工商時報)\n\n2020/12/25\n2029.TW\n盛餘\n美熱軋漲破1000美元 國內鋼廠受惠(工商時報)\n\n2020/12/25\n2031.TW\n新光鋼\n美熱軋漲破1000美元 國內鋼廠受惠(工商時報)\n\n2020/12/25\n2409.TW\n友達\n面板超旺 雙虎春節不休假(經濟日報)\n\n2020/12/25\n2439.TW\n美律\n興能高私募 引進美律入股(經濟日報)\n\n2020/12/25\n2603.TW\n長榮\n美西線長約價 明年將漲七成(工商時報)\n\n2020/12/25\n2603.TW\n長榮\n陽明獲利暴衝 業界：百年難得的好光景來了(經濟日報)\n\n2020/12/25\n2609.TW\n陽明\n美西線長約價 明年將漲七成(工商時報)\n\n2020/12/25\n2609.TW\n陽明\n陽明獲利暴衝 業界：百年難得的好光景來了(經濟日報)\n\n2020/12/25\n2615.TW\n萬海\n陽明獲利暴衝 業界：百年難得的好光景來了(經濟日報)\n\n2020/12/25\n2913.TW\n農林\n董座看好 三陽工業子公司加碼農林持股逾18%(工商時報)\n\n2020/12/25\n3086.TW\n華義\n華義 搶攻博弈遊戲(經濟日報)\n\n2020/12/25\n3481.TW\n群創\n面板超旺 雙虎春節不休假(經濟日報)\n\n2020/12/25\n3661.TW\n世芯-KY\n陸訂單湧 世芯-KY Q4營收再攀高(工商時報)\n\n2020/12/25\n3665.TW\n貿聯-KY\n貿聯-KY 傳奪電動車新單(經濟日報)\n\n2020/12/25\n\n富采投控\n富采投控 Mini LED營收占比上看三成(工商時報)\n\n2020/12/25\n4123.TW\n晟德\n晟德現金收益 拚每年20億(經濟日報)\n\n2020/12/25\n4958.TW\n臻鼎-KY\n蘋果Mini LED 臻鼎-KY/台表科吃補(工商時報)\n\n2020/12/25\n5243.TW\n乙盛-KY\n乙盛-KY越南廠 明年Q2投產(經濟日報)\n\n2020/12/25\n6223.TW\n旺矽\n四引擎推動 測試介面廠喊衝(工商時報)\n\n2020/12/25\n6278.TW\n台表科\n蘋果Mini LED 臻鼎-KY/台表科吃補(工商時報)\n\n2020/12/25\n6284.TW\n佳邦\n佳邦產能滿載 營運熱(經濟日報)\n\n2020/12/25\n6443.TW\n元晶\n元晶砸7億 擴產太陽能電池(經濟日報)\n\n2020/12/25\n6465.TW\n威潤\n威潤攻車聯網 軟硬通吃(經濟日報)\n\n2020/12/25\n6510.TW\n精測\n四引擎推動 測試介面廠喊衝(工商時報)\n\n2020/12/25\n6558.TW\n興能高\n興能高私募 引進美律入股(經濟日報)\n\n2020/12/25\n6683.TW\n雍智科技\n四引擎推動 測試介面廠喊衝(工商時報)\n\n2020/12/25\n6515.TE\n穎崴\n四引擎推動 測試介面廠喊衝(工商時報)\n\n\n"
     ]
    }
   ],
   "source": [
    "import requests\n",
    "\n",
    "# 參考文案('https://blog.csdn.net/fightingoyo/article/details/104563419?ops_request_misc=%25257B%252522request%25255Fid%252522%25253A%252522160887503916780308363199%252522%25252C%252522scm%252522%25253A%25252220140713.130102334..%252522%25257D&request_id=160887503916780308363199&biz_id=0&utm_medium=distribute.pc_search_result.none-task-blog-2~all~sobaiduend~default-3-104563419.nonecase&utm_term=python%20xhr')\n",
    "\n",
    "response = requests.get('https://m.moneydj.com/jsondata/djjson/FundJsonData.xdjjson?x=XDT003F')\n",
    "\n",
    "# 使用json()方法，将response对象，转为列表/字典\n",
    "js_stock = response.json()\n",
    "# 逐层展开字典，获得歌曲列表\n",
    "list_stock = js_stock['ResultSet']['Result']\n",
    "\n",
    "for stock in list_stock:\n",
    "    # 新聞時間\n",
    "    stock_time = stock['V1']\n",
    "    # 股票代號\n",
    "    stock_code = stock['XQID']\n",
    "    # 股票名稱\n",
    "    stock_name = stock['V3']\n",
    "    # 新聞內容\n",
    "    stock_news = stock['V4']\n",
    "    print(stock_time+'\\n'+stock_code+'\\n'+stock_name+'\\n'+stock_news+'\\n')\n",
    "\n",
    "print()"
   ]
  },
  {
   "cell_type": "code",
   "execution_count": 27,
   "metadata": {},
   "outputs": [
    {
     "output_type": "error",
     "ename": "NameError",
     "evalue": "name 'threading' is not defined",
     "traceback": [
      "\u001b[1;31m---------------------------------------------------------------------------\u001b[0m",
      "\u001b[1;31mNameError\u001b[0m                                 Traceback (most recent call last)",
      "\u001b[1;32m<ipython-input-27-e6fb57ffc8f9>\u001b[0m in \u001b[0;36m<module>\u001b[1;34m\u001b[0m\n\u001b[0;32m     31\u001b[0m     \u001b[0mtimer\u001b[0m\u001b[1;33m.\u001b[0m\u001b[0mstart\u001b[0m\u001b[1;33m(\u001b[0m\u001b[1;33m)\u001b[0m    \u001b[1;31m#启用定时器\u001b[0m\u001b[1;33m\u001b[0m\u001b[1;33m\u001b[0m\u001b[0m\n\u001b[0;32m     32\u001b[0m \u001b[1;33m\u001b[0m\u001b[0m\n\u001b[1;32m---> 33\u001b[1;33m \u001b[0mtimer\u001b[0m \u001b[1;33m=\u001b[0m \u001b[0mthreading\u001b[0m\u001b[1;33m.\u001b[0m\u001b[0mTimer\u001b[0m\u001b[1;33m(\u001b[0m\u001b[1;36m1\u001b[0m\u001b[1;33m,\u001b[0m \u001b[0mfunc_timer\u001b[0m\u001b[1;33m)\u001b[0m\u001b[1;33m\u001b[0m\u001b[1;33m\u001b[0m\u001b[0m\n\u001b[0m\u001b[0;32m     34\u001b[0m \u001b[0mtimer\u001b[0m\u001b[1;33m.\u001b[0m\u001b[0mstart\u001b[0m\u001b[1;33m(\u001b[0m\u001b[1;33m)\u001b[0m\u001b[1;33m\u001b[0m\u001b[1;33m\u001b[0m\u001b[0m\n\u001b[0;32m     35\u001b[0m \u001b[0mprint\u001b[0m\u001b[1;33m(\u001b[0m\u001b[1;34m'定时器启动成功-----'\u001b[0m\u001b[1;33m)\u001b[0m\u001b[1;33m\u001b[0m\u001b[1;33m\u001b[0m\u001b[0m\n",
      "\u001b[1;31mNameError\u001b[0m: name 'threading' is not defined"
     ]
    }
   ],
   "source": [
    "from threading import Timer\n",
    "from datetime import datetime\n",
    "\n",
    "class MyTimer( object ):\n",
    "\n",
    "    def __init__( self, start_time, interval, callback_proc, args=None, kwargs=None ):\n",
    "\n",
    "        self.__timer = None\n",
    "        self.__start_time = start_time\n",
    "        self.__interval = interval\n",
    "        self.__callback_pro = callback_proc\n",
    "        self.__args = args if args is not None else []\n",
    "        self.__kwargs = kwargs if kwargs is not None else {}\n",
    "\n",
    "    def exec_callback( self, args=None, kwargs=None ):\n",
    "        self.__callback_pro( *self.__args, **self.__kwargs )\n",
    "        self.__timer = Timer( self.__interval, self.exec_callback )\n",
    "        self.__timer.start()\n",
    "\n",
    "    def start( self ):\n",
    "        interval = self.__interval - ( datetime.now().timestamp() - self.__start_time.timestamp() )\n",
    "        print( interval )\n",
    "        self.__timer = Timer( interval, self.exec_callback )\n",
    "        self.__timer.start()\n",
    "\n",
    "    def cancel( self ):\n",
    "        self.__timer.cancel() \n",
    "        self.__timer = None\n",
    "\n",
    "class AA:\n",
    "    def hello( self, name, age ):\n",
    "        print( \"[%s]\\thello %s: %d\\n\" % ( datetime.now().strftime(\"%Y%m%d %H:%M:%S\"), name, age ) )\n",
    "\n",
    "if __name__ == \"__main__\":\n",
    "\n",
    "    aa = AA()\n",
    "    start = datetime.now().replace( minute=3, second=0, microsecond=0 )\n",
    "    tmr = MyTimer( start, 60*60, aa.hello, [ \"owenliu\", 18 ] )\n",
    "    tmr.start()\n",
    "    tmr.cancel()"
   ]
  },
  {
   "cell_type": "code",
   "execution_count": null,
   "metadata": {},
   "outputs": [],
   "source": []
  }
 ]
}